{
  "nbformat": 4,
  "nbformat_minor": 0,
  "metadata": {
    "colab": {
      "provenance": [],
      "include_colab_link": true
    },
    "kernelspec": {
      "name": "python3",
      "display_name": "Python 3"
    },
    "language_info": {
      "name": "python"
    }
  },
  "cells": [
    {
      "cell_type": "markdown",
      "metadata": {
        "id": "view-in-github",
        "colab_type": "text"
      },
      "source": [
        "<a href=\"https://colab.research.google.com/github/Jpiramos/ia01_exercProp03/blob/main/Exerc%C3%ADcio_Pr%C3%A1tico_03.ipynb\" target=\"_parent\"><img src=\"https://colab.research.google.com/assets/colab-badge.svg\" alt=\"Open In Colab\"/></a>"
      ]
    },
    {
      "cell_type": "code",
      "execution_count": 1,
      "metadata": {
        "colab": {
          "base_uri": "https://localhost:8080/"
        },
        "id": "Dr0Hd2lfrFi9",
        "outputId": "d94bc91f-41c8-4eec-df1d-ceb86b40621e"
      },
      "outputs": [
        {
          "output_type": "stream",
          "name": "stdout",
          "text": [
            "Downloading http://yann.lecun.com/exdb/mnist/train-images-idx3-ubyte.gz\n",
            "Failed to download (trying next):\n",
            "<urlopen error [SSL: CERTIFICATE_VERIFY_FAILED] certificate verify failed: certificate has expired (_ssl.c:1007)>\n",
            "\n",
            "Downloading https://ossci-datasets.s3.amazonaws.com/mnist/train-images-idx3-ubyte.gz\n",
            "Downloading https://ossci-datasets.s3.amazonaws.com/mnist/train-images-idx3-ubyte.gz to ./data/MNIST/raw/train-images-idx3-ubyte.gz\n"
          ]
        },
        {
          "output_type": "stream",
          "name": "stderr",
          "text": [
            "100%|██████████| 9.91M/9.91M [00:01<00:00, 5.23MB/s]\n"
          ]
        },
        {
          "output_type": "stream",
          "name": "stdout",
          "text": [
            "Extracting ./data/MNIST/raw/train-images-idx3-ubyte.gz to ./data/MNIST/raw\n",
            "\n",
            "Downloading http://yann.lecun.com/exdb/mnist/train-labels-idx1-ubyte.gz\n",
            "Failed to download (trying next):\n",
            "<urlopen error [SSL: CERTIFICATE_VERIFY_FAILED] certificate verify failed: certificate has expired (_ssl.c:1007)>\n",
            "\n",
            "Downloading https://ossci-datasets.s3.amazonaws.com/mnist/train-labels-idx1-ubyte.gz\n",
            "Downloading https://ossci-datasets.s3.amazonaws.com/mnist/train-labels-idx1-ubyte.gz to ./data/MNIST/raw/train-labels-idx1-ubyte.gz\n"
          ]
        },
        {
          "output_type": "stream",
          "name": "stderr",
          "text": [
            "100%|██████████| 28.9k/28.9k [00:00<00:00, 153kB/s]\n"
          ]
        },
        {
          "output_type": "stream",
          "name": "stdout",
          "text": [
            "Extracting ./data/MNIST/raw/train-labels-idx1-ubyte.gz to ./data/MNIST/raw\n",
            "\n",
            "Downloading http://yann.lecun.com/exdb/mnist/t10k-images-idx3-ubyte.gz\n",
            "Failed to download (trying next):\n",
            "<urlopen error [SSL: CERTIFICATE_VERIFY_FAILED] certificate verify failed: certificate has expired (_ssl.c:1007)>\n",
            "\n",
            "Downloading https://ossci-datasets.s3.amazonaws.com/mnist/t10k-images-idx3-ubyte.gz\n",
            "Downloading https://ossci-datasets.s3.amazonaws.com/mnist/t10k-images-idx3-ubyte.gz to ./data/MNIST/raw/t10k-images-idx3-ubyte.gz\n"
          ]
        },
        {
          "output_type": "stream",
          "name": "stderr",
          "text": [
            "100%|██████████| 1.65M/1.65M [00:01<00:00, 1.45MB/s]\n"
          ]
        },
        {
          "output_type": "stream",
          "name": "stdout",
          "text": [
            "Extracting ./data/MNIST/raw/t10k-images-idx3-ubyte.gz to ./data/MNIST/raw\n",
            "\n",
            "Downloading http://yann.lecun.com/exdb/mnist/t10k-labels-idx1-ubyte.gz\n",
            "Failed to download (trying next):\n",
            "<urlopen error [SSL: CERTIFICATE_VERIFY_FAILED] certificate verify failed: certificate has expired (_ssl.c:1007)>\n",
            "\n",
            "Downloading https://ossci-datasets.s3.amazonaws.com/mnist/t10k-labels-idx1-ubyte.gz\n",
            "Downloading https://ossci-datasets.s3.amazonaws.com/mnist/t10k-labels-idx1-ubyte.gz to ./data/MNIST/raw/t10k-labels-idx1-ubyte.gz\n"
          ]
        },
        {
          "output_type": "stream",
          "name": "stderr",
          "text": [
            "100%|██████████| 4.54k/4.54k [00:00<00:00, 4.21MB/s]"
          ]
        },
        {
          "output_type": "stream",
          "name": "stdout",
          "text": [
            "Extracting ./data/MNIST/raw/t10k-labels-idx1-ubyte.gz to ./data/MNIST/raw\n",
            "\n"
          ]
        },
        {
          "output_type": "stream",
          "name": "stderr",
          "text": [
            "\n"
          ]
        }
      ],
      "source": [
        "import torch\n",
        "import torch.nn as nn\n",
        "import torch.optim as optim\n",
        "from torch.utils.data import DataLoader, random_split\n",
        "from torchvision import datasets, transforms\n",
        "import matplotlib.pyplot as plt\n",
        "\n",
        "# Definir transformações para o dataset MNIST\n",
        "transform = transforms.Compose([\n",
        "    transforms.ToTensor(),\n",
        "    transforms.Lambda(lambda x: x.view(-1))  # Achatar a imagem para 784 valores\n",
        "])\n",
        "\n",
        "# Baixar o dataset MNIST\n",
        "dataset = datasets.MNIST(root='./data', train=True, download=True, transform=transform)\n",
        "\n",
        "# Dividir dataset em treino e teste\n",
        "train_size = int(0.8 * len(dataset))\n",
        "test_size = len(dataset) - train_size\n",
        "train_dataset, test_dataset = random_split(dataset, [train_size, test_size])\n"
      ]
    },
    {
      "cell_type": "code",
      "source": [
        "# Criar DataLoader para carregar os dados em batches\n",
        "train_loader = DataLoader(dataset=train_dataset, batch_size=64, shuffle=True)\n",
        "test_loader = DataLoader(dataset=test_dataset, batch_size=64, shuffle=False)\n",
        "\n",
        "# Visualizar uma imagem a partir de um vetor de 784 valores\n",
        "def show_image_from_vector(data_loader):\n",
        "    image_vector, label = next(iter(data_loader))\n",
        "    image_vector = image_vector[0]  # Pegue apenas a primeira imagem do batch\n",
        "    image_reshaped = image_vector.view(28, 28)  # Reformatar para 28x28\n",
        "    plt.imshow(image_reshaped, cmap='gray')\n",
        "    plt.title(f'Imagem Exemplo')\n",
        "    plt.show()\n",
        "\n",
        "# Mostrar a imagem antes do treinamento\n",
        "show_image_from_vector(train_loader)"
      ],
      "metadata": {
        "colab": {
          "base_uri": "https://localhost:8080/",
          "height": 452
        },
        "id": "KH0gPLo_rLnv",
        "outputId": "8ff35ac0-5e2b-42b5-a10b-3120121dea74"
      },
      "execution_count": 2,
      "outputs": [
        {
          "output_type": "display_data",
          "data": {
            "text/plain": [
              "<Figure size 640x480 with 1 Axes>"
            ],
            "image/png": "[encoded data removed]"
          },
          "metadata": {}
        }
      ]
    },
    {
      "cell_type": "code",
      "source": [
        "# Definir um modelo de rede neural totalmente conectado com melhorias\n",
        "class EnhancedFullyConnectedNN(nn.Module):\n",
        "    def __init__(self):\n",
        "        super(EnhancedFullyConnectedNN, self).__init__()\n",
        "        self.fc1 = nn.Linear(28 * 28, 512)      # Camada de entrada\n",
        "        self.bn1 = nn.BatchNorm1d(512)\n",
        "        self.fc2 = nn.Linear(512, 256)          # Primeira camada oculta\n",
        "        self.bn2 = nn.BatchNorm1d(256)\n",
        "        self.fc3 = nn.Linear(256, 128)          # Segunda camada oculta\n",
        "        self.bn3 = nn.BatchNorm1d(128)\n",
        "        self.fc4 = nn.Linear(128, 10)           # Camada de saída\n",
        "        self.dropout = nn.Dropout(0.3)\n",
        "\n",
        "    def forward(self, x):\n",
        "        x = torch.relu(self.bn1(self.fc1(x)))\n",
        "        x = self.dropout(x)\n",
        "        x = torch.relu(self.bn2(self.fc2(x)))\n",
        "        x = self.dropout(x)\n",
        "        x = torch.relu(self.bn3(self.fc3(x)))\n",
        "        x = self.fc4(x)  # Saída sem ativação, CrossEntropyLoss cuida disso\n",
        "        return x\n",
        "\n",
        "# Instanciar o modelo, definir a função de perda e o otimizador\n",
        "model = EnhancedFullyConnectedNN()\n",
        "criterion = nn.CrossEntropyLoss()\n",
        "optimizer = optim.Adam(model.parameters(), lr=0.0005)  # Taxa de aprendizado menor\n"
      ],
      "metadata": {
        "id": "PBu4DU4MrQhG"
      },
      "execution_count": 3,
      "outputs": []
    },
    {
      "cell_type": "code",
      "source": [
        "# Função para treinar o modelo\n",
        "def train_model(model, train_loader, test_loader, criterion, optimizer, max_epochs=50, patience=5):\n",
        "    train_losses = []\n",
        "    test_losses = []\n",
        "    min_train_loss = float('inf')\n",
        "    early_stop_counter = 0\n",
        "\n",
        "    for epoch in range(max_epochs):\n",
        "        model.train()\n",
        "        running_loss = 0.0\n",
        "        for images, labels in train_loader:\n",
        "            optimizer.zero_grad()  # Limpar gradientes acumulados\n",
        "            outputs = model(images)  # Fazer previsões\n",
        "            loss = criterion(outputs, labels)  # Calcular perda\n",
        "            loss.backward()  # Retropropagação\n",
        "            optimizer.step()  # Atualizar os pesos\n",
        "            running_loss += loss.item()\n",
        "\n",
        "        # Calcular perda média no treino\n",
        "        avg_train_loss = running_loss / len(train_loader)\n",
        "        train_losses.append(avg_train_loss)\n",
        "\n",
        "        # Calcular perda no conjunto de teste\n",
        "        model.eval()\n",
        "        test_loss = 0.0\n",
        "        with torch.no_grad():\n",
        "            for images, labels in test_loader:\n",
        "                outputs = model(images)\n",
        "                loss = criterion(outputs, labels)\n",
        "                test_loss += loss.item()\n",
        "        avg_test_loss = test_loss / len(test_loader)\n",
        "        test_losses.append(avg_test_loss)\n",
        "\n",
        "        print(f\"Epoch [{epoch+1}/{max_epochs}], Loss: {avg_train_loss:.4f}, Test Loss: {avg_test_loss:.4f}\")\n",
        "\n",
        "        # Verificar se a perda de treino não está diminuindo\n",
        "        if avg_train_loss < min_train_loss:\n",
        "            min_train_loss = avg_train_loss\n",
        "            early_stop_counter = 0\n",
        "        else:\n",
        "            early_stop_counter += 1\n",
        "\n",
        "        if early_stop_counter >= patience:\n",
        "            print(f\"Parando o treinamento após {epoch+1} épocas devido à estagnação na perda.\")\n",
        "            break\n",
        "\n",
        "    return train_losses, test_losses\n"
      ],
      "metadata": {
        "id": "2kTa7r4rrWBh"
      },
      "execution_count": 4,
      "outputs": []
    },
    {
      "cell_type": "code",
      "source": [
        "# Treinar o modelo e plotar os gráficos de erro\n",
        "train_losses, test_losses = train_model(model, train_loader, test_loader, criterion, optimizer)\n",
        "\n",
        "# Função para plotar os gráficos de erro\n",
        "def plot_losses(train_losses, test_losses):\n",
        "    plt.plot(train_losses, label=\"Perda no Treino\")\n",
        "    plt.plot(test_losses, label=\"Perda no Teste\")\n",
        "    plt.xlabel(\"Épocas\")\n",
        "    plt.ylabel(\"Erro\")\n",
        "    plt.legend()\n",
        "    plt.title(\"Gráfico de Erro Durante o Treinamento\")\n",
        "    plt.show()\n",
        "\n",
        "plot_losses(train_losses, test_losses)\n"
      ],
      "metadata": {
        "id": "BuLNAtMQrckO",
        "colab": {
          "base_uri": "https://localhost:8080/",
          "height": 1000
        },
        "outputId": "f1e366ef-14f9-429a-adc7-a2298c9d2cd4"
      },
      "execution_count": 5,
      "outputs": [
        {
          "output_type": "stream",
          "name": "stdout",
          "text": [
            "Epoch [1/50], Loss: 0.3372, Test Loss: 0.1172\n",
            "Epoch [2/50], Loss: 0.1491, Test Loss: 0.0840\n",
            "Epoch [3/50], Loss: 0.1099, Test Loss: 0.0808\n",
            "Epoch [4/50], Loss: 0.0941, Test Loss: 0.0694\n",
            "Epoch [5/50], Loss: 0.0819, Test Loss: 0.0700\n",
            "Epoch [6/50], Loss: 0.0735, Test Loss: 0.0633\n",
            "Epoch [7/50], Loss: 0.0665, Test Loss: 0.0719\n",
            "Epoch [8/50], Loss: 0.0590, Test Loss: 0.0597\n",
            "Epoch [9/50], Loss: 0.0542, Test Loss: 0.0653\n",
            "Epoch [10/50], Loss: 0.0528, Test Loss: 0.0637\n",
            "Epoch [11/50], Loss: 0.0477, Test Loss: 0.0596\n",
            "Epoch [12/50], Loss: 0.0451, Test Loss: 0.0562\n",
            "Epoch [13/50], Loss: 0.0413, Test Loss: 0.0609\n",
            "Epoch [14/50], Loss: 0.0394, Test Loss: 0.0569\n",
            "Epoch [15/50], Loss: 0.0364, Test Loss: 0.0592\n",
            "Epoch [16/50], Loss: 0.0346, Test Loss: 0.0535\n",
            "Epoch [17/50], Loss: 0.0345, Test Loss: 0.0594\n",
            "Epoch [18/50], Loss: 0.0324, Test Loss: 0.0578\n",
            "Epoch [19/50], Loss: 0.0298, Test Loss: 0.0554\n",
            "Epoch [20/50], Loss: 0.0285, Test Loss: 0.0571\n",
            "Epoch [21/50], Loss: 0.0279, Test Loss: 0.0548\n",
            "Epoch [22/50], Loss: 0.0256, Test Loss: 0.0567\n",
            "Epoch [23/50], Loss: 0.0260, Test Loss: 0.0567\n",
            "Epoch [24/50], Loss: 0.0254, Test Loss: 0.0530\n",
            "Epoch [25/50], Loss: 0.0276, Test Loss: 0.0519\n",
            "Epoch [26/50], Loss: 0.0225, Test Loss: 0.0591\n",
            "Epoch [27/50], Loss: 0.0218, Test Loss: 0.0525\n",
            "Epoch [28/50], Loss: 0.0194, Test Loss: 0.0569\n",
            "Epoch [29/50], Loss: 0.0217, Test Loss: 0.0604\n",
            "Epoch [30/50], Loss: 0.0219, Test Loss: 0.0559\n",
            "Epoch [31/50], Loss: 0.0198, Test Loss: 0.0596\n",
            "Epoch [32/50], Loss: 0.0224, Test Loss: 0.0579\n",
            "Epoch [33/50], Loss: 0.0200, Test Loss: 0.0565\n",
            "Parando o treinamento após 33 épocas devido à estagnação na perda.\n"
          ]
        },
        {
          "output_type": "display_data",
          "data": {
            "text/plain": [
              "<Figure size 640x480 with 1 Axes>"
            ],
            "image/png": "[encoded data removed]"
          },
          "metadata": {}
        }
      ]
    },
    {
      "cell_type": "code",
      "source": [
        "# Função para calcular a precisão (percentual de acertos) do modelo\n",
        "def calculate_accuracy(model, data_loader):\n",
        "    model.eval()  # Colocar o modelo em modo de avaliação\n",
        "    correct = 0\n",
        "    total = 0\n",
        "    with torch.no_grad():  # Desligar o cálculo de gradientes para avaliação\n",
        "        for images, labels in data_loader:\n",
        "            outputs = model(images)\n",
        "            _, predicted = torch.max(outputs.data, 1)  # Obter a classe com maior probabilidade\n",
        "            total += labels.size(0)\n",
        "            correct += (predicted == labels).sum().item()  # Contar quantos acertos tivemos\n",
        "    accuracy = 100 * correct / total\n",
        "    return accuracy\n",
        "\n",
        "# Calcular e exibir a precisão no conjunto de treino e de teste\n",
        "train_accuracy = calculate_accuracy(model, train_loader)\n",
        "test_accuracy = calculate_accuracy(model, test_loader)\n",
        "\n",
        "print(f'Acurácia no conjunto de treino: {train_accuracy:.2f}%')\n",
        "print(f'Acurácia no conjunto de teste: {test_accuracy:.2f}%')"
      ],
      "metadata": {
        "colab": {
          "base_uri": "https://localhost:8080/"
        },
        "id": "fKnfJxL4taJY",
        "outputId": "7bd3f394-b391-4162-d09e-d0f041823f13"
      },
      "execution_count": 6,
      "outputs": [
        {
          "output_type": "stream",
          "name": "stdout",
          "text": [
            "Acurácia no conjunto de treino: 99.96%\n",
            "Acurácia no conjunto de teste: 98.50%\n"
          ]
        }
      ]
    }
  ]
}